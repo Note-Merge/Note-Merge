{
 "cells": [
  {
   "cell_type": "code",
   "execution_count": null,
   "id": "d833ef28-2317-42c5-a41f-bf80fa4068f9",
   "metadata": {},
   "outputs": [],
   "source": [
    "pip install bertopic"
   ]
  },
  {
   "cell_type": "code",
   "execution_count": null,
   "id": "45c37d41-b0d3-41d8-8641-e3f843908f43",
   "metadata": {},
   "outputs": [],
   "source": [
    "from bertopic import BERTopic\n",
    "import nltk\n",
    "\n",
    "\n",
    "model = BERTopic(embedding_model='all-MiniLM-L6-v2')\n",
    "\n",
    "note = \"\"\"Dogs are great pets because they are friendly and loyal.\n",
    "They love to play and go for walks in the park.\n",
    "Many people enjoy spending time with their dogs. Cats, on the other hand, are more independent and quiet.\n",
    "They like to nap in sunny spots and play with toys.\n",
    "Both dogs and cats make wonderful companions.\n",
    "Reading books is another fun activity that many people enjoy.\n",
    "It can take you on adventures and help you learn new things.\n",
    "Whether you have a pet or a good book, both can bring joy and comfort to your life.\n",
    "I love to play with my dog in the park.\"\"\"\n",
    "\n",
    "note = nltk.sent_tokenize(note)\n",
    "\n",
    "\n",
    "topics, probs = model.fit_transform(note)\n",
    "\n",
    "print(model.get_topic_info())\n"
   ]
  },
  {
   "cell_type": "code",
   "execution_count": null,
   "id": "d47b7848-8bbe-4410-8c8f-5f76634b28c1",
   "metadata": {},
   "outputs": [],
   "source": []
  }
 ],
 "metadata": {
  "kernelspec": {
   "display_name": "Python 3 (ipykernel)",
   "language": "python",
   "name": "python3"
  },
  "language_info": {
   "codemirror_mode": {
    "name": "ipython",
    "version": 3
   },
   "file_extension": ".py",
   "mimetype": "text/x-python",
   "name": "python",
   "nbconvert_exporter": "python",
   "pygments_lexer": "ipython3",
   "version": "3.12.6"
  }
 },
 "nbformat": 4,
 "nbformat_minor": 5
}
