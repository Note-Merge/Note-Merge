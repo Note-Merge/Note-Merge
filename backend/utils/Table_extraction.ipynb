{
 "cells": [
  {
   "cell_type": "code",
   "execution_count": 2,
   "id": "4a018dcc-ddba-4ed3-95e9-76886e1a2346",
   "metadata": {},
   "outputs": [
    {
     "name": "stderr",
     "output_type": "stream",
     "text": [
      "/Users/b_karki/Desktop/Note-Merge/env/lib/python3.11/site-packages/pypdf/_crypt_providers/_cryptography.py:32: CryptographyDeprecationWarning: ARC4 has been moved to cryptography.hazmat.decrepit.ciphers.algorithms.ARC4 and will be removed from cryptography.hazmat.primitives.ciphers.algorithms in 48.0.0.\n",
      "  from cryptography.hazmat.primitives.ciphers.algorithms import AES, ARC4\n"
     ]
    }
   ],
   "source": [
    "import camelot\n",
    "import fitz"
   ]
  },
  {
   "cell_type": "code",
   "execution_count": 3,
   "id": "7fb41023-bfc3-41d9-bb7c-d3456052f486",
   "metadata": {},
   "outputs": [
    {
     "name": "stdout",
     "output_type": "stream",
     "text": [
      "15\n"
     ]
    },
    {
     "data": {
      "text/plain": [
       "{1: [(76.08, 390.84156316267797, 206.64, 514.6440472584065)],\n",
       " 3: [(74.88, 580.6240533171766, 208.32, 699.6279915177219),\n",
       "  (72.96, 276.3962435625568, 186.0, 430.42956679794)],\n",
       " 5: [(72.96, 510.56528324750076, 405.12, 639.6461678279309)],\n",
       " 9: [(66.48, 396.35989094213875, 426.96, 720.0218115722508)]}"
      ]
     },
     "execution_count": 3,
     "metadata": {},
     "output_type": "execute_result"
    }
   ],
   "source": [
    "file_path = 'IOE_microprocessor_chapter_1.pdf'\n",
    "\n",
    "pdf = fitz.open(file_path)\n",
    "print(len(pdf))\n",
    "\n",
    "pages_with_table =[]\n",
    "table_coordinates = []\n",
    "table_data = []\n",
    "\n",
    "dict_tables = {}\n",
    "\n",
    "\n",
    "for i in range(1,len(pdf)):\n",
    "    tables = camelot.read_pdf(file_path,pages=f\"{i}\")\n",
    "    if(tables):\n",
    "        pages_with_table.append(i)\n",
    "        \n",
    "for i in pages_with_table:\n",
    "    tables = camelot.read_pdf(file_path,pages=f\"{i}\")\n",
    "    tables_of_a_page = []\n",
    "    \n",
    "    for table in tables:\n",
    "        tables_of_a_page.append(table._bbox)\n",
    "        table_data.append(table.df)\n",
    "    dict_tables[i] = tables_of_a_page\n",
    "\n",
    "#Now I just need to remove the tables using the coordinates and fitz.Rect\n",
    "dict_tables\n",
    "    "
   ]
  },
  {
   "cell_type": "code",
   "execution_count": 4,
   "id": "a2c5ab3d-4a44-4e1b-b1bb-1b8b1414accb",
   "metadata": {},
   "outputs": [],
   "source": [
    "#remove each table from the pdf by using the coordinates of table in dict_tables\n",
    "\n",
    "for num_page, tables in dict_tables.items():\n",
    "    page = pdf[num_page -1]\n",
    "    page_height = page.rect.height\n",
    "\n",
    "    for x1, y1, x2, y2 in tables:\n",
    "        # Convert Camelot bbox to fitz coordinates (top-left origin)\n",
    "        y1_fitz = page_height - y1\n",
    "        y2_fitz = page_height - y2\n",
    "        rect = fitz.Rect(x1, y2_fitz, x2, y1_fitz)\n",
    "\n",
    "        # Redact the region (white fill)\n",
    "        page.add_redact_annot(rect, fill=(1, 1, 1))\n",
    "\n",
    "    # Apply all redactions after adding them\n",
    "    page.apply_redactions()\n",
    "\n",
    "# Save result\n",
    "out_path = 'table_deleted.pdf'\n",
    "pdf.save(out_path)        "
   ]
  },
  {
   "cell_type": "code",
   "execution_count": 8,
   "id": "56584245-6fcf-4e7f-a792-b669e1791028",
   "metadata": {},
   "outputs": [
    {
     "data": {
      "text/plain": [
       "[  0 1\n",
       " 0    \n",
       " 1    \n",
       " 2    \n",
       " 3    ,\n",
       "   0\n",
       " 0  \n",
       " 1  \n",
       " 2  ,\n",
       "   0 1\n",
       " 0    \n",
       " 1    ,\n",
       "   0 1\n",
       " 0    \n",
       " 1    \n",
       " 2    \n",
       " 3    \n",
       " 4    \n",
       " 5    \n",
       " 6    ,\n",
       "        0                                                  1         2  \\\n",
       " 0                                      Date  Microprocessor  Data bus   \n",
       " 1   1971                                               4004     4-bit   \n",
       " 2   1972                                               8008     8-bit   \n",
       " 3   1974                                               8080      8bit   \n",
       " 4   1976                                               8085      8bit   \n",
       " 5   1978                                               8086     16bit   \n",
       " 6   1979                                               8088      8bit   \n",
       " 7   1982                                              80286     16bit   \n",
       " 8   1985                                              80386     32bit   \n",
       " 9   1989                                              80486     32bit   \n",
       " 10  1993                                            Pentium  32/64bit   \n",
       " 11  1995                                        Pentium pro  32/64bit   \n",
       " 12  1997                                         Pentium II     64bit   \n",
       " 13  1998                                            Celeron     64bit   \n",
       " 14  1999                                        Pentium III     64bit   \n",
       " 15  2000                                         Pentium IV     64bit   \n",
       " 16  2001                                            Itanium   128 bit   \n",
       " 17  2002                                          Itanium 2   128 bit   \n",
       " 18  2003  Pentium M/Centrino (wireless capability) for M...             \n",
       " 19                            Core 2: X86 – 64 Architecture             \n",
       " \n",
       "               3          4  \n",
       " 0   Address Bus     Memory  \n",
       " 1        10-bit  640 Bytes  \n",
       " 2        14-bit        16k  \n",
       " 3         16bit        64k  \n",
       " 4        16b it        64k  \n",
       " 5         20bit         1M  \n",
       " 6         20bit         1M  \n",
       " 7         24bit        16M  \n",
       " 8         32bit         4G  \n",
       " 9         32bit         4G  \n",
       " 10        32bit         4G  \n",
       " 11        36bit        64G  \n",
       " 12        36bit        64G  \n",
       " 13        36bit        64G  \n",
       " 14        36bit        64G  \n",
       " 15        36bit        64G  \n",
       " 16        64bit        64G  \n",
       " 17        64bit        64G  \n",
       " 18                          \n",
       " 19                          ]"
      ]
     },
     "execution_count": 8,
     "metadata": {},
     "output_type": "execute_result"
    }
   ],
   "source": [
    "table_data"
   ]
  }
 ],
 "metadata": {
  "kernelspec": {
   "display_name": "camelot_env",
   "language": "python",
   "name": "camelot_env"
  },
  "language_info": {
   "codemirror_mode": {
    "name": "ipython",
    "version": 3
   },
   "file_extension": ".py",
   "mimetype": "text/x-python",
   "name": "python",
   "nbconvert_exporter": "python",
   "pygments_lexer": "ipython3",
   "version": "3.11.4"
  }
 },
 "nbformat": 4,
 "nbformat_minor": 5
}
