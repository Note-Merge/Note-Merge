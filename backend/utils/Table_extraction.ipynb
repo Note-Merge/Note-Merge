{
 "cells": [
  {
   "cell_type": "code",
   "execution_count": 9,
   "id": "4a018dcc-ddba-4ed3-95e9-76886e1a2346",
   "metadata": {},
   "outputs": [],
   "source": [
    "import camelot\n",
    "import fitz"
   ]
  },
  {
   "cell_type": "code",
   "execution_count": 12,
   "id": "7fb41023-bfc3-41d9-bb7c-d3456052f486",
   "metadata": {},
   "outputs": [
    {
     "name": "stdout",
     "output_type": "stream",
     "text": [
      "15\n"
     ]
    },
    {
     "data": {
      "text/plain": [
       "{1: [(76.08, 390.84156316267797, 206.64, 514.6440472584065)],\n",
       " 3: [(74.88, 580.6240533171766, 208.32, 699.6279915177219),\n",
       "  (72.96, 276.3962435625568, 186.0, 430.42956679794)],\n",
       " 5: [(72.96, 510.56528324750076, 405.12, 639.6461678279309)],\n",
       " 9: [(66.48, 396.35989094213875, 426.96, 720.0218115722508)]}"
      ]
     },
     "execution_count": 12,
     "metadata": {},
     "output_type": "execute_result"
    }
   ],
   "source": [
    "file_path = 'IOE_microprocessor_chapter_1.pdf'\n",
    "\n",
    "pdf = fitz.open(file_path)\n",
    "print(len(pdf))\n",
    "\n",
    "pages_with_table =[]\n",
    "table_coordinates = []\n",
    "table_data = []\n",
    "\n",
    "dict_tables = {}\n",
    "\n",
    "\n",
    "for i in range(1,len(pdf)):\n",
    "    tables = camelot.read_pdf(file_path,pages=f\"{i}\")\n",
    "    if(tables):\n",
    "        pages_with_table.append(i)\n",
    "        \n",
    "for i in pages_with_table:\n",
    "    tables = camelot.read_pdf(file_path,pages=f\"{i}\")\n",
    "    tables_of_a_page = []\n",
    "    \n",
    "    for table in tables:\n",
    "        tables_of_a_page.append(table._bbox)\n",
    "        table_data.append(table.df)\n",
    "    dict_tables[i] = tables_of_a_page\n",
    "\n",
    "#Now I just need to remove the tables using the coordinates and fitz.Rect\n",
    "dict_tables\n",
    "    "
   ]
  },
  {
   "cell_type": "code",
   "execution_count": 13,
   "id": "a2c5ab3d-4a44-4e1b-b1bb-1b8b1414accb",
   "metadata": {},
   "outputs": [],
   "source": [
    "#remove each table from the pdf by using the coordinates of table in dict_tables\n",
    "\n",
    "for num_page, tables in dict_tables.items():\n",
    "    page = pdf[num_page -1]\n",
    "    page_height = page.rect.height\n",
    "\n",
    "    for x1, y1, x2, y2 in tables:\n",
    "        # Convert Camelot bbox to fitz coordinates (top-left origin)\n",
    "        y1_fitz = page_height - y1\n",
    "        y2_fitz = page_height - y2\n",
    "        rect = fitz.Rect(x1, y2_fitz, x2, y1_fitz)\n",
    "\n",
    "        # Redact the region (white fill)\n",
    "        page.add_redact_annot(rect, fill=(1, 1, 1))\n",
    "\n",
    "    # Apply all redactions after adding them\n",
    "    page.apply_redactions()\n",
    "\n",
    "# Save result\n",
    "out_path = 'table_deleted.pdf'\n",
    "pdf.save(out_path)        "
   ]
  },
  {
   "cell_type": "code",
   "execution_count": null,
   "id": "56584245-6fcf-4e7f-a792-b669e1791028",
   "metadata": {},
   "outputs": [],
   "source": [
    "p"
   ]
  }
 ],
 "metadata": {
  "kernelspec": {
   "display_name": "camelot_env",
   "language": "python",
   "name": "camelot_env"
  },
  "language_info": {
   "codemirror_mode": {
    "name": "ipython",
    "version": 3
   },
   "file_extension": ".py",
   "mimetype": "text/x-python",
   "name": "python",
   "nbconvert_exporter": "python",
   "pygments_lexer": "ipython3",
   "version": "3.11.4"
  }
 },
 "nbformat": 4,
 "nbformat_minor": 5
}
