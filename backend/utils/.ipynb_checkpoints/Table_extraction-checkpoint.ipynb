{
 "cells": [
  {
   "cell_type": "code",
   "execution_count": 2,
   "id": "4a018dcc-ddba-4ed3-95e9-76886e1a2346",
   "metadata": {},
   "outputs": [
    {
     "name": "stderr",
     "output_type": "stream",
     "text": [
      "/Users/b_karki/Desktop/Note-Merge/env/lib/python3.11/site-packages/pypdf/_crypt_providers/_cryptography.py:32: CryptographyDeprecationWarning: ARC4 has been moved to cryptography.hazmat.decrepit.ciphers.algorithms.ARC4 and will be removed from cryptography.hazmat.primitives.ciphers.algorithms in 48.0.0.\n",
      "  from cryptography.hazmat.primitives.ciphers.algorithms import AES, ARC4\n"
     ]
    }
   ],
   "source": [
    "import camelot\n",
    "import fitz"
   ]
  },
  {
   "cell_type": "code",
   "execution_count": 3,
   "id": "7fb41023-bfc3-41d9-bb7c-d3456052f486",
   "metadata": {},
   "outputs": [
    {
     "name": "stdout",
     "output_type": "stream",
     "text": [
      "15\n",
      "(76.08, 380.6691015339664, 206.64, 529.9284149013879)\n"
     ]
    },
    {
     "name": "stderr",
     "output_type": "stream",
     "text": [
      "/Users/b_karki/Desktop/Note-Merge/env/lib/python3.11/site-packages/camelot/utils.py:1217: UserWarning:   (72.024, 74.51904) does not lie in column range (75.33000000000001, 207.95999999999998)\n",
      "  warnings.warn(\n"
     ]
    },
    {
     "name": "stdout",
     "output_type": "stream",
     "text": [
      "(74.88, 609.4755295836377, 208.32, 752.9495982468956)\n",
      "(72.96, 242.691015339664, 186.0, 428.3973703433163)\n",
      "(72.96, 525.0109569028489, 405.12, 680.6340394448503)\n",
      "(276.96, 400.33893352812277, 384.0, 527.6143170197224)\n",
      "(88.8, 406.7027027027027, 204.95999999999998, 464.2658875091308)\n",
      "(66.48, 387.61139517896277, 426.96, 777.536888239591)\n"
     ]
    }
   ],
   "source": [
    "pdf = fitz.open('no_header_footer_1.pdf')\n",
    "print(len(pdf))\n",
    "\n",
    "pages_with_table =[]\n",
    "table_coordinates = []\n",
    "\n",
    "dict_tables = {}\n",
    "for i in range(1,len(pdf)):\n",
    "    tables = camelot.read_pdf('no_header_footer_1.pdf',pages=f\"{i}\")\n",
    "    tables_of_a_page = []\n",
    "    \n",
    "    for table in tables:\n",
    "        tables_of_a_page.append(table._bbox)\n",
    "    dict_tables[1] = tables_of_a_page\n",
    "\n",
    "        \n",
    "\n"
   ]
  },
  {
   "cell_type": "code",
   "execution_count": 20,
   "id": "a2c5ab3d-4a44-4e1b-b1bb-1b8b1414accb",
   "metadata": {},
   "outputs": [
    {
     "data": {
      "text/plain": [
       "page 1 of no_header_footer_1.pdf"
      ]
     },
     "execution_count": 20,
     "metadata": {},
     "output_type": "execute_result"
    }
   ],
   "source": [
    "#Now I just need to remove the tables using the coordinates and fitz.Rect\n",
    "\n",
    "    \n",
    "    "
   ]
  }
 ],
 "metadata": {
  "kernelspec": {
   "display_name": "camelot_env",
   "language": "python",
   "name": "camelot_env"
  },
  "language_info": {
   "codemirror_mode": {
    "name": "ipython",
    "version": 3
   },
   "file_extension": ".py",
   "mimetype": "text/x-python",
   "name": "python",
   "nbconvert_exporter": "python",
   "pygments_lexer": "ipython3",
   "version": "3.11.4"
  }
 },
 "nbformat": 4,
 "nbformat_minor": 5
}
